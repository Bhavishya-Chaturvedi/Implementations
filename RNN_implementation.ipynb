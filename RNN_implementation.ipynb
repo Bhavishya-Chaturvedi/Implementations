{
  "nbformat": 4,
  "nbformat_minor": 0,
  "metadata": {
    "colab": {
      "provenance": [],
      "gpuType": "T4",
      "authorship_tag": "ABX9TyOk4Ev4MBDwi0LX08HNVIkJ",
      "include_colab_link": true
    },
    "kernelspec": {
      "name": "python3",
      "display_name": "Python 3"
    },
    "language_info": {
      "name": "python"
    }
  },
  "cells": [
    {
      "cell_type": "markdown",
      "metadata": {
        "id": "view-in-github",
        "colab_type": "text"
      },
      "source": [
        "<a href=\"https://colab.research.google.com/github/Bhavishya-Chaturvedi/Implementations/blob/main/RNN_implementation.ipynb\" target=\"_parent\"><img src=\"https://colab.research.google.com/assets/colab-badge.svg\" alt=\"Open In Colab\"/></a>"
      ]
    },
    {
      "cell_type": "code",
      "execution_count": null,
      "metadata": {
        "id": "r9PAmlJw1X0j"
      },
      "outputs": [],
      "source": [
        "import pandas as pd"
      ]
    },
    {
      "cell_type": "code",
      "source": [
        "import numpy as np"
      ],
      "metadata": {
        "id": "3GWa0TAmf80m"
      },
      "execution_count": null,
      "outputs": []
    },
    {
      "cell_type": "code",
      "source": [
        "data = pd.read_csv(\"/content/clean_weather.csv\",index_col=0)\n",
        "data = data.ffill()\n",
        "\n",
        "data"
      ],
      "metadata": {
        "colab": {
          "base_uri": "https://localhost:8080/",
          "height": 424
        },
        "id": "RuAuGEC_Zktx",
        "outputId": "2d5e8fca-ef45-4d2f-a99b-7c295337d3a6"
      },
      "execution_count": null,
      "outputs": [
        {
          "output_type": "execute_result",
          "data": {
            "text/plain": [
              "            tmax  tmin  rain  tmax_tomorrow\n",
              "1970-01-01  60.0  35.0   0.0           52.0\n",
              "1970-01-02  52.0  39.0   0.0           52.0\n",
              "1970-01-03  52.0  35.0   0.0           53.0\n",
              "1970-01-04  53.0  36.0   0.0           52.0\n",
              "1970-01-05  52.0  35.0   0.0           50.0\n",
              "...          ...   ...   ...            ...\n",
              "2022-11-22  62.0  35.0   0.0           67.0\n",
              "2022-11-23  67.0  38.0   0.0           66.0\n",
              "2022-11-24  66.0  41.0   0.0           70.0\n",
              "2022-11-25  70.0  39.0   0.0           62.0\n",
              "2022-11-26  62.0  41.0   0.0           64.0\n",
              "\n",
              "[13509 rows x 4 columns]"
            ],
            "text/html": [
              "\n",
              "  <div id=\"df-38401e6c-703b-44d6-82fe-cb1bbee01641\" class=\"colab-df-container\">\n",
              "    <div>\n",
              "<style scoped>\n",
              "    .dataframe tbody tr th:only-of-type {\n",
              "        vertical-align: middle;\n",
              "    }\n",
              "\n",
              "    .dataframe tbody tr th {\n",
              "        vertical-align: top;\n",
              "    }\n",
              "\n",
              "    .dataframe thead th {\n",
              "        text-align: right;\n",
              "    }\n",
              "</style>\n",
              "<table border=\"1\" class=\"dataframe\">\n",
              "  <thead>\n",
              "    <tr style=\"text-align: right;\">\n",
              "      <th></th>\n",
              "      <th>tmax</th>\n",
              "      <th>tmin</th>\n",
              "      <th>rain</th>\n",
              "      <th>tmax_tomorrow</th>\n",
              "    </tr>\n",
              "  </thead>\n",
              "  <tbody>\n",
              "    <tr>\n",
              "      <th>1970-01-01</th>\n",
              "      <td>60.0</td>\n",
              "      <td>35.0</td>\n",
              "      <td>0.0</td>\n",
              "      <td>52.0</td>\n",
              "    </tr>\n",
              "    <tr>\n",
              "      <th>1970-01-02</th>\n",
              "      <td>52.0</td>\n",
              "      <td>39.0</td>\n",
              "      <td>0.0</td>\n",
              "      <td>52.0</td>\n",
              "    </tr>\n",
              "    <tr>\n",
              "      <th>1970-01-03</th>\n",
              "      <td>52.0</td>\n",
              "      <td>35.0</td>\n",
              "      <td>0.0</td>\n",
              "      <td>53.0</td>\n",
              "    </tr>\n",
              "    <tr>\n",
              "      <th>1970-01-04</th>\n",
              "      <td>53.0</td>\n",
              "      <td>36.0</td>\n",
              "      <td>0.0</td>\n",
              "      <td>52.0</td>\n",
              "    </tr>\n",
              "    <tr>\n",
              "      <th>1970-01-05</th>\n",
              "      <td>52.0</td>\n",
              "      <td>35.0</td>\n",
              "      <td>0.0</td>\n",
              "      <td>50.0</td>\n",
              "    </tr>\n",
              "    <tr>\n",
              "      <th>...</th>\n",
              "      <td>...</td>\n",
              "      <td>...</td>\n",
              "      <td>...</td>\n",
              "      <td>...</td>\n",
              "    </tr>\n",
              "    <tr>\n",
              "      <th>2022-11-22</th>\n",
              "      <td>62.0</td>\n",
              "      <td>35.0</td>\n",
              "      <td>0.0</td>\n",
              "      <td>67.0</td>\n",
              "    </tr>\n",
              "    <tr>\n",
              "      <th>2022-11-23</th>\n",
              "      <td>67.0</td>\n",
              "      <td>38.0</td>\n",
              "      <td>0.0</td>\n",
              "      <td>66.0</td>\n",
              "    </tr>\n",
              "    <tr>\n",
              "      <th>2022-11-24</th>\n",
              "      <td>66.0</td>\n",
              "      <td>41.0</td>\n",
              "      <td>0.0</td>\n",
              "      <td>70.0</td>\n",
              "    </tr>\n",
              "    <tr>\n",
              "      <th>2022-11-25</th>\n",
              "      <td>70.0</td>\n",
              "      <td>39.0</td>\n",
              "      <td>0.0</td>\n",
              "      <td>62.0</td>\n",
              "    </tr>\n",
              "    <tr>\n",
              "      <th>2022-11-26</th>\n",
              "      <td>62.0</td>\n",
              "      <td>41.0</td>\n",
              "      <td>0.0</td>\n",
              "      <td>64.0</td>\n",
              "    </tr>\n",
              "  </tbody>\n",
              "</table>\n",
              "<p>13509 rows × 4 columns</p>\n",
              "</div>\n",
              "    <div class=\"colab-df-buttons\">\n",
              "\n",
              "  <div class=\"colab-df-container\">\n",
              "    <button class=\"colab-df-convert\" onclick=\"convertToInteractive('df-38401e6c-703b-44d6-82fe-cb1bbee01641')\"\n",
              "            title=\"Convert this dataframe to an interactive table.\"\n",
              "            style=\"display:none;\">\n",
              "\n",
              "  <svg xmlns=\"http://www.w3.org/2000/svg\" height=\"24px\" viewBox=\"0 -960 960 960\">\n",
              "    <path d=\"M120-120v-720h720v720H120Zm60-500h600v-160H180v160Zm220 220h160v-160H400v160Zm0 220h160v-160H400v160ZM180-400h160v-160H180v160Zm440 0h160v-160H620v160ZM180-180h160v-160H180v160Zm440 0h160v-160H620v160Z\"/>\n",
              "  </svg>\n",
              "    </button>\n",
              "\n",
              "  <style>\n",
              "    .colab-df-container {\n",
              "      display:flex;\n",
              "      gap: 12px;\n",
              "    }\n",
              "\n",
              "    .colab-df-convert {\n",
              "      background-color: #E8F0FE;\n",
              "      border: none;\n",
              "      border-radius: 50%;\n",
              "      cursor: pointer;\n",
              "      display: none;\n",
              "      fill: #1967D2;\n",
              "      height: 32px;\n",
              "      padding: 0 0 0 0;\n",
              "      width: 32px;\n",
              "    }\n",
              "\n",
              "    .colab-df-convert:hover {\n",
              "      background-color: #E2EBFA;\n",
              "      box-shadow: 0px 1px 2px rgba(60, 64, 67, 0.3), 0px 1px 3px 1px rgba(60, 64, 67, 0.15);\n",
              "      fill: #174EA6;\n",
              "    }\n",
              "\n",
              "    .colab-df-buttons div {\n",
              "      margin-bottom: 4px;\n",
              "    }\n",
              "\n",
              "    [theme=dark] .colab-df-convert {\n",
              "      background-color: #3B4455;\n",
              "      fill: #D2E3FC;\n",
              "    }\n",
              "\n",
              "    [theme=dark] .colab-df-convert:hover {\n",
              "      background-color: #434B5C;\n",
              "      box-shadow: 0px 1px 3px 1px rgba(0, 0, 0, 0.15);\n",
              "      filter: drop-shadow(0px 1px 2px rgba(0, 0, 0, 0.3));\n",
              "      fill: #FFFFFF;\n",
              "    }\n",
              "  </style>\n",
              "\n",
              "    <script>\n",
              "      const buttonEl =\n",
              "        document.querySelector('#df-38401e6c-703b-44d6-82fe-cb1bbee01641 button.colab-df-convert');\n",
              "      buttonEl.style.display =\n",
              "        google.colab.kernel.accessAllowed ? 'block' : 'none';\n",
              "\n",
              "      async function convertToInteractive(key) {\n",
              "        const element = document.querySelector('#df-38401e6c-703b-44d6-82fe-cb1bbee01641');\n",
              "        const dataTable =\n",
              "          await google.colab.kernel.invokeFunction('convertToInteractive',\n",
              "                                                    [key], {});\n",
              "        if (!dataTable) return;\n",
              "\n",
              "        const docLinkHtml = 'Like what you see? Visit the ' +\n",
              "          '<a target=\"_blank\" href=https://colab.research.google.com/notebooks/data_table.ipynb>data table notebook</a>'\n",
              "          + ' to learn more about interactive tables.';\n",
              "        element.innerHTML = '';\n",
              "        dataTable['output_type'] = 'display_data';\n",
              "        await google.colab.output.renderOutput(dataTable, element);\n",
              "        const docLink = document.createElement('div');\n",
              "        docLink.innerHTML = docLinkHtml;\n",
              "        element.appendChild(docLink);\n",
              "      }\n",
              "    </script>\n",
              "  </div>\n",
              "\n",
              "\n",
              "    <div id=\"df-2d2d9134-116c-44ed-9e90-7362f92f9bcc\">\n",
              "      <button class=\"colab-df-quickchart\" onclick=\"quickchart('df-2d2d9134-116c-44ed-9e90-7362f92f9bcc')\"\n",
              "                title=\"Suggest charts\"\n",
              "                style=\"display:none;\">\n",
              "\n",
              "<svg xmlns=\"http://www.w3.org/2000/svg\" height=\"24px\"viewBox=\"0 0 24 24\"\n",
              "     width=\"24px\">\n",
              "    <g>\n",
              "        <path d=\"M19 3H5c-1.1 0-2 .9-2 2v14c0 1.1.9 2 2 2h14c1.1 0 2-.9 2-2V5c0-1.1-.9-2-2-2zM9 17H7v-7h2v7zm4 0h-2V7h2v10zm4 0h-2v-4h2v4z\"/>\n",
              "    </g>\n",
              "</svg>\n",
              "      </button>\n",
              "\n",
              "<style>\n",
              "  .colab-df-quickchart {\n",
              "      --bg-color: #E8F0FE;\n",
              "      --fill-color: #1967D2;\n",
              "      --hover-bg-color: #E2EBFA;\n",
              "      --hover-fill-color: #174EA6;\n",
              "      --disabled-fill-color: #AAA;\n",
              "      --disabled-bg-color: #DDD;\n",
              "  }\n",
              "\n",
              "  [theme=dark] .colab-df-quickchart {\n",
              "      --bg-color: #3B4455;\n",
              "      --fill-color: #D2E3FC;\n",
              "      --hover-bg-color: #434B5C;\n",
              "      --hover-fill-color: #FFFFFF;\n",
              "      --disabled-bg-color: #3B4455;\n",
              "      --disabled-fill-color: #666;\n",
              "  }\n",
              "\n",
              "  .colab-df-quickchart {\n",
              "    background-color: var(--bg-color);\n",
              "    border: none;\n",
              "    border-radius: 50%;\n",
              "    cursor: pointer;\n",
              "    display: none;\n",
              "    fill: var(--fill-color);\n",
              "    height: 32px;\n",
              "    padding: 0;\n",
              "    width: 32px;\n",
              "  }\n",
              "\n",
              "  .colab-df-quickchart:hover {\n",
              "    background-color: var(--hover-bg-color);\n",
              "    box-shadow: 0 1px 2px rgba(60, 64, 67, 0.3), 0 1px 3px 1px rgba(60, 64, 67, 0.15);\n",
              "    fill: var(--button-hover-fill-color);\n",
              "  }\n",
              "\n",
              "  .colab-df-quickchart-complete:disabled,\n",
              "  .colab-df-quickchart-complete:disabled:hover {\n",
              "    background-color: var(--disabled-bg-color);\n",
              "    fill: var(--disabled-fill-color);\n",
              "    box-shadow: none;\n",
              "  }\n",
              "\n",
              "  .colab-df-spinner {\n",
              "    border: 2px solid var(--fill-color);\n",
              "    border-color: transparent;\n",
              "    border-bottom-color: var(--fill-color);\n",
              "    animation:\n",
              "      spin 1s steps(1) infinite;\n",
              "  }\n",
              "\n",
              "  @keyframes spin {\n",
              "    0% {\n",
              "      border-color: transparent;\n",
              "      border-bottom-color: var(--fill-color);\n",
              "      border-left-color: var(--fill-color);\n",
              "    }\n",
              "    20% {\n",
              "      border-color: transparent;\n",
              "      border-left-color: var(--fill-color);\n",
              "      border-top-color: var(--fill-color);\n",
              "    }\n",
              "    30% {\n",
              "      border-color: transparent;\n",
              "      border-left-color: var(--fill-color);\n",
              "      border-top-color: var(--fill-color);\n",
              "      border-right-color: var(--fill-color);\n",
              "    }\n",
              "    40% {\n",
              "      border-color: transparent;\n",
              "      border-right-color: var(--fill-color);\n",
              "      border-top-color: var(--fill-color);\n",
              "    }\n",
              "    60% {\n",
              "      border-color: transparent;\n",
              "      border-right-color: var(--fill-color);\n",
              "    }\n",
              "    80% {\n",
              "      border-color: transparent;\n",
              "      border-right-color: var(--fill-color);\n",
              "      border-bottom-color: var(--fill-color);\n",
              "    }\n",
              "    90% {\n",
              "      border-color: transparent;\n",
              "      border-bottom-color: var(--fill-color);\n",
              "    }\n",
              "  }\n",
              "</style>\n",
              "\n",
              "      <script>\n",
              "        async function quickchart(key) {\n",
              "          const quickchartButtonEl =\n",
              "            document.querySelector('#' + key + ' button');\n",
              "          quickchartButtonEl.disabled = true;  // To prevent multiple clicks.\n",
              "          quickchartButtonEl.classList.add('colab-df-spinner');\n",
              "          try {\n",
              "            const charts = await google.colab.kernel.invokeFunction(\n",
              "                'suggestCharts', [key], {});\n",
              "          } catch (error) {\n",
              "            console.error('Error during call to suggestCharts:', error);\n",
              "          }\n",
              "          quickchartButtonEl.classList.remove('colab-df-spinner');\n",
              "          quickchartButtonEl.classList.add('colab-df-quickchart-complete');\n",
              "        }\n",
              "        (() => {\n",
              "          let quickchartButtonEl =\n",
              "            document.querySelector('#df-2d2d9134-116c-44ed-9e90-7362f92f9bcc button');\n",
              "          quickchartButtonEl.style.display =\n",
              "            google.colab.kernel.accessAllowed ? 'block' : 'none';\n",
              "        })();\n",
              "      </script>\n",
              "    </div>\n",
              "\n",
              "  <div id=\"id_fc2a9e10-7b2c-4bcc-80d8-247052b19687\">\n",
              "    <style>\n",
              "      .colab-df-generate {\n",
              "        background-color: #E8F0FE;\n",
              "        border: none;\n",
              "        border-radius: 50%;\n",
              "        cursor: pointer;\n",
              "        display: none;\n",
              "        fill: #1967D2;\n",
              "        height: 32px;\n",
              "        padding: 0 0 0 0;\n",
              "        width: 32px;\n",
              "      }\n",
              "\n",
              "      .colab-df-generate:hover {\n",
              "        background-color: #E2EBFA;\n",
              "        box-shadow: 0px 1px 2px rgba(60, 64, 67, 0.3), 0px 1px 3px 1px rgba(60, 64, 67, 0.15);\n",
              "        fill: #174EA6;\n",
              "      }\n",
              "\n",
              "      [theme=dark] .colab-df-generate {\n",
              "        background-color: #3B4455;\n",
              "        fill: #D2E3FC;\n",
              "      }\n",
              "\n",
              "      [theme=dark] .colab-df-generate:hover {\n",
              "        background-color: #434B5C;\n",
              "        box-shadow: 0px 1px 3px 1px rgba(0, 0, 0, 0.15);\n",
              "        filter: drop-shadow(0px 1px 2px rgba(0, 0, 0, 0.3));\n",
              "        fill: #FFFFFF;\n",
              "      }\n",
              "    </style>\n",
              "    <button class=\"colab-df-generate\" onclick=\"generateWithVariable('data')\"\n",
              "            title=\"Generate code using this dataframe.\"\n",
              "            style=\"display:none;\">\n",
              "\n",
              "  <svg xmlns=\"http://www.w3.org/2000/svg\" height=\"24px\"viewBox=\"0 0 24 24\"\n",
              "       width=\"24px\">\n",
              "    <path d=\"M7,19H8.4L18.45,9,17,7.55,7,17.6ZM5,21V16.75L18.45,3.32a2,2,0,0,1,2.83,0l1.4,1.43a1.91,1.91,0,0,1,.58,1.4,1.91,1.91,0,0,1-.58,1.4L9.25,21ZM18.45,9,17,7.55Zm-12,3A5.31,5.31,0,0,0,4.9,8.1,5.31,5.31,0,0,0,1,6.5,5.31,5.31,0,0,0,4.9,4.9,5.31,5.31,0,0,0,6.5,1,5.31,5.31,0,0,0,8.1,4.9,5.31,5.31,0,0,0,12,6.5,5.46,5.46,0,0,0,6.5,12Z\"/>\n",
              "  </svg>\n",
              "    </button>\n",
              "    <script>\n",
              "      (() => {\n",
              "      const buttonEl =\n",
              "        document.querySelector('#id_fc2a9e10-7b2c-4bcc-80d8-247052b19687 button.colab-df-generate');\n",
              "      buttonEl.style.display =\n",
              "        google.colab.kernel.accessAllowed ? 'block' : 'none';\n",
              "\n",
              "      buttonEl.onclick = () => {\n",
              "        google.colab.notebook.generateWithVariable('data');\n",
              "      }\n",
              "      })();\n",
              "    </script>\n",
              "  </div>\n",
              "\n",
              "    </div>\n",
              "  </div>\n"
            ],
            "application/vnd.google.colaboratory.intrinsic+json": {
              "type": "dataframe",
              "variable_name": "data",
              "summary": "{\n  \"name\": \"data\",\n  \"rows\": 13509,\n  \"fields\": [\n    {\n      \"column\": \"tmax\",\n      \"properties\": {\n        \"dtype\": \"number\",\n        \"std\": 8.328976736053626,\n        \"min\": 38.0,\n        \"max\": 122.0,\n        \"num_unique_values\": 66,\n        \"samples\": [\n          43.0,\n          122.0,\n          60.0\n        ],\n        \"semantic_type\": \"\",\n        \"description\": \"\"\n      }\n    },\n    {\n      \"column\": \"tmin\",\n      \"properties\": {\n        \"dtype\": \"number\",\n        \"std\": 6.792530879740785,\n        \"min\": 1.0,\n        \"max\": 69.0,\n        \"num_unique_values\": 48,\n        \"samples\": [\n          37.0,\n          68.0,\n          40.0\n        ],\n        \"semantic_type\": \"\",\n        \"description\": \"\"\n      }\n    },\n    {\n      \"column\": \"rain\",\n      \"properties\": {\n        \"dtype\": \"number\",\n        \"std\": 0.1805763898947246,\n        \"min\": 0.0,\n        \"max\": 3.58,\n        \"num_unique_values\": 161,\n        \"samples\": [\n          1.29,\n          0.61,\n          1.52\n        ],\n        \"semantic_type\": \"\",\n        \"description\": \"\"\n      }\n    },\n    {\n      \"column\": \"tmax_tomorrow\",\n      \"properties\": {\n        \"dtype\": \"number\",\n        \"std\": 8.328832488077406,\n        \"min\": 38.0,\n        \"max\": 122.0,\n        \"num_unique_values\": 66,\n        \"samples\": [\n          43.0,\n          122.0,\n          52.0\n        ],\n        \"semantic_type\": \"\",\n        \"description\": \"\"\n      }\n    }\n  ]\n}"
            }
          },
          "metadata": {},
          "execution_count": 3
        }
      ]
    },
    {
      "cell_type": "code",
      "source": [
        "data['tmax'].head(10)"
      ],
      "metadata": {
        "colab": {
          "base_uri": "https://localhost:8080/",
          "height": 398
        },
        "id": "1sNbm-1pa8Bz",
        "outputId": "4a176d4d-1fa2-4f9b-9268-a9f061667edb"
      },
      "execution_count": null,
      "outputs": [
        {
          "output_type": "execute_result",
          "data": {
            "text/plain": [
              "1970-01-01    60.0\n",
              "1970-01-02    52.0\n",
              "1970-01-03    52.0\n",
              "1970-01-04    53.0\n",
              "1970-01-05    52.0\n",
              "1970-01-06    50.0\n",
              "1970-01-07    52.0\n",
              "1970-01-08    56.0\n",
              "1970-01-09    54.0\n",
              "1970-01-10    57.0\n",
              "Name: tmax, dtype: float64"
            ],
            "text/html": [
              "<div>\n",
              "<style scoped>\n",
              "    .dataframe tbody tr th:only-of-type {\n",
              "        vertical-align: middle;\n",
              "    }\n",
              "\n",
              "    .dataframe tbody tr th {\n",
              "        vertical-align: top;\n",
              "    }\n",
              "\n",
              "    .dataframe thead th {\n",
              "        text-align: right;\n",
              "    }\n",
              "</style>\n",
              "<table border=\"1\" class=\"dataframe\">\n",
              "  <thead>\n",
              "    <tr style=\"text-align: right;\">\n",
              "      <th></th>\n",
              "      <th>tmax</th>\n",
              "    </tr>\n",
              "  </thead>\n",
              "  <tbody>\n",
              "    <tr>\n",
              "      <th>1970-01-01</th>\n",
              "      <td>60.0</td>\n",
              "    </tr>\n",
              "    <tr>\n",
              "      <th>1970-01-02</th>\n",
              "      <td>52.0</td>\n",
              "    </tr>\n",
              "    <tr>\n",
              "      <th>1970-01-03</th>\n",
              "      <td>52.0</td>\n",
              "    </tr>\n",
              "    <tr>\n",
              "      <th>1970-01-04</th>\n",
              "      <td>53.0</td>\n",
              "    </tr>\n",
              "    <tr>\n",
              "      <th>1970-01-05</th>\n",
              "      <td>52.0</td>\n",
              "    </tr>\n",
              "    <tr>\n",
              "      <th>1970-01-06</th>\n",
              "      <td>50.0</td>\n",
              "    </tr>\n",
              "    <tr>\n",
              "      <th>1970-01-07</th>\n",
              "      <td>52.0</td>\n",
              "    </tr>\n",
              "    <tr>\n",
              "      <th>1970-01-08</th>\n",
              "      <td>56.0</td>\n",
              "    </tr>\n",
              "    <tr>\n",
              "      <th>1970-01-09</th>\n",
              "      <td>54.0</td>\n",
              "    </tr>\n",
              "    <tr>\n",
              "      <th>1970-01-10</th>\n",
              "      <td>57.0</td>\n",
              "    </tr>\n",
              "  </tbody>\n",
              "</table>\n",
              "</div><br><label><b>dtype:</b> float64</label>"
            ]
          },
          "metadata": {},
          "execution_count": 4
        }
      ]
    },
    {
      "cell_type": "code",
      "source": [
        "data[\"tmax\"].head(10).to_numpy()[np.newaxis,:]"
      ],
      "metadata": {
        "colab": {
          "base_uri": "https://localhost:8080/"
        },
        "id": "WA0Y7h28fTGI",
        "outputId": "30cd6b81-9d85-4a04-bdfc-a4b1eb2392f8"
      },
      "execution_count": null,
      "outputs": [
        {
          "output_type": "execute_result",
          "data": {
            "text/plain": [
              "array([[60., 52., 52., 53., 52., 50., 52., 56., 54., 57.]])"
            ]
          },
          "metadata": {},
          "execution_count": 5
        }
      ]
    },
    {
      "cell_type": "code",
      "source": [
        "data[\"tmax\"].head(6).to_numpy()[np.newaxis,:]"
      ],
      "metadata": {
        "colab": {
          "base_uri": "https://localhost:8080/"
        },
        "id": "4OuOgeHllkGZ",
        "outputId": "cdd62fe0-6b46-4ca8-9a4b-0eeab836cc1e"
      },
      "execution_count": null,
      "outputs": [
        {
          "output_type": "execute_result",
          "data": {
            "text/plain": [
              "array([[60., 52., 52., 53., 52., 50.]])"
            ]
          },
          "metadata": {},
          "execution_count": 6
        }
      ]
    },
    {
      "cell_type": "code",
      "source": [
        "data[\"tmax\"].head(15).to_numpy()[np.newaxis,:]"
      ],
      "metadata": {
        "colab": {
          "base_uri": "https://localhost:8080/"
        },
        "id": "1hg2mCp8mL2e",
        "outputId": "ab16193a-4b9e-4956-dd26-51457b61e884"
      },
      "execution_count": null,
      "outputs": [
        {
          "output_type": "execute_result",
          "data": {
            "text/plain": [
              "array([[60., 52., 52., 53., 52., 50., 52., 56., 54., 57., 57., 58., 59.,\n",
              "        58., 56.]])"
            ]
          },
          "metadata": {},
          "execution_count": 7
        }
      ]
    },
    {
      "cell_type": "code",
      "source": [
        "np.random.seed(0)\n",
        "i_weight = np.random.rand(1,2)\n",
        "h_weight = np.random.rand(2,2)\n",
        "o_weight = np.random.rand(2,1)\n",
        "\n",
        "temps = data['tmax'].tail(3).to_numpy()\n",
        "temps"
      ],
      "metadata": {
        "colab": {
          "base_uri": "https://localhost:8080/"
        },
        "id": "YDPQkR-imOV3",
        "outputId": "352f2441-6d76-4e41-9577-0cd24893584c"
      },
      "execution_count": null,
      "outputs": [
        {
          "output_type": "execute_result",
          "data": {
            "text/plain": [
              "array([66., 70., 62.])"
            ]
          },
          "metadata": {},
          "execution_count": 8
        }
      ]
    },
    {
      "cell_type": "code",
      "source": [
        "x0 = temps[0].reshape(1,1)\n",
        "x1 = temps[1].reshape(1,1)\n",
        "x2 = temps[2].reshape(1,1)\n"
      ],
      "metadata": {
        "id": "dEdhPYgTtuwT"
      },
      "execution_count": null,
      "outputs": []
    },
    {
      "cell_type": "code",
      "source": [
        "x0"
      ],
      "metadata": {
        "colab": {
          "base_uri": "https://localhost:8080/"
        },
        "id": "ShkKuft9XqNi",
        "outputId": "5127352c-2c25-4a14-a39f-59c5c929c5d2"
      },
      "execution_count": null,
      "outputs": [
        {
          "output_type": "execute_result",
          "data": {
            "text/plain": [
              "array([[66.]])"
            ]
          },
          "metadata": {},
          "execution_count": 10
        }
      ]
    },
    {
      "cell_type": "code",
      "source": [
        "xi_0 = x0 @ i_weight\n",
        "xi_0"
      ],
      "metadata": {
        "colab": {
          "base_uri": "https://localhost:8080/"
        },
        "id": "9n2TkhJadHvw",
        "outputId": "095cdf9d-3020-455b-c7ee-af7c1586b8a7"
      },
      "execution_count": null,
      "outputs": [
        {
          "output_type": "execute_result",
          "data": {
            "text/plain": [
              "array([[36.22169126, 47.20249818]])"
            ]
          },
          "metadata": {},
          "execution_count": 11
        }
      ]
    },
    {
      "cell_type": "code",
      "source": [
        "xh_0 = np.maximum(0 , xi_0)\n",
        "xh_0"
      ],
      "metadata": {
        "colab": {
          "base_uri": "https://localhost:8080/"
        },
        "id": "l8o-jjwednTE",
        "outputId": "1e1c9eb9-67eb-4a24-ddea-37b68d952615"
      },
      "execution_count": null,
      "outputs": [
        {
          "output_type": "execute_result",
          "data": {
            "text/plain": [
              "array([[36.22169126, 47.20249818]])"
            ]
          },
          "metadata": {},
          "execution_count": 12
        }
      ]
    },
    {
      "cell_type": "code",
      "source": [
        "xo_0 = xi_0 @ o_weight\n",
        "xo_0"
      ],
      "metadata": {
        "colab": {
          "base_uri": "https://localhost:8080/"
        },
        "id": "y2M3s6UYen2g",
        "outputId": "c9282655-2903-4869-e5fa-1ad009905f3e"
      },
      "execution_count": null,
      "outputs": [
        {
          "output_type": "execute_result",
          "data": {
            "text/plain": [
              "array([[57.94406231]])"
            ]
          },
          "metadata": {},
          "execution_count": 13
        }
      ]
    },
    {
      "cell_type": "code",
      "source": [
        "xi_1 = x1 @ i_weight\n",
        "xi_1\n",
        "xh = xh_0 @ h_weight\n",
        "xh_1 = np.maximum(0, xh + xi_1)\n",
        "xh_1\n",
        "xo_1 = xh_1 @ o_weight\n",
        "xo_1"
      ],
      "metadata": {
        "colab": {
          "base_uri": "https://localhost:8080/"
        },
        "id": "rWxWSP_pfCZ_",
        "outputId": "98c462a6-6a23-4ffe-9f17-82dd6942de2a"
      },
      "execution_count": null,
      "outputs": [
        {
          "output_type": "execute_result",
          "data": {
            "text/plain": [
              "array([[124.54916092]])"
            ]
          },
          "metadata": {},
          "execution_count": 14
        }
      ]
    },
    {
      "cell_type": "code",
      "source": [
        "xi_2 = x2 @ i_weight\n",
        "xi_2\n",
        "xh = xh_1 @ h_weight\n",
        "xh_2 = np.maximum(0, xh + xi_2)\n",
        "xo_2 = xh_2 @ o_weight\n",
        "xo_2"
      ],
      "metadata": {
        "colab": {
          "base_uri": "https://localhost:8080/"
        },
        "id": "kAshfq1vf-3O",
        "outputId": "af49078c-1ed2-4da1-f452-e682992ee37f"
      },
      "execution_count": null,
      "outputs": [
        {
          "output_type": "execute_result",
          "data": {
            "text/plain": [
              "array([[190.94853131]])"
            ]
          },
          "metadata": {},
          "execution_count": 15
        }
      ]
    },
    {
      "cell_type": "markdown",
      "source": [
        " $$\\tanh = \\dfrac{e^{x}-e^{-x}}{e^{x}+e^{-x}}$$"
      ],
      "metadata": {
        "id": "bTMJjXnijZOi"
      }
    },
    {
      "cell_type": "code",
      "source": [
        "#$$\\tanh = \\dfrac{e^{x}-e^{-x}}{e^{x}+e^{-x}}$$\n",
        "# markdown for tanh function formula"
      ],
      "metadata": {
        "id": "9Y91FpJagPrl"
      },
      "execution_count": null,
      "outputs": []
    },
    {
      "cell_type": "code",
      "source": [
        "import matplotlib.pyplot as plt\n",
        "temps = np.arange(-10,10,.1)\n",
        "plt.plot(temps, np.tanh(temps))"
      ],
      "metadata": {
        "colab": {
          "base_uri": "https://localhost:8080/",
          "height": 447
        },
        "id": "ELF-27yojIvE",
        "outputId": "ba9ba77c-349e-4181-a59e-ee7873080034"
      },
      "execution_count": null,
      "outputs": [
        {
          "output_type": "execute_result",
          "data": {
            "text/plain": [
              "[<matplotlib.lines.Line2D at 0x781d1c79a490>]"
            ]
          },
          "metadata": {},
          "execution_count": 17
        },
        {
          "output_type": "display_data",
          "data": {
            "text/plain": [
              "<Figure size 640x480 with 1 Axes>"
            ],
            "image/png": "[encoded data removed]"
          },
          "metadata": {}
        }
      ]
    },
    {
      "cell_type": "code",
      "source": [
        "from sympy import diff, symbols, exp\n",
        "\n",
        "x = symbols(\"x\")\n",
        "sympy_tanh = (exp(x) - exp(-x))/(exp(x) + exp(-x))\n",
        "diff(sympy_tanh, x)"
      ],
      "metadata": {
        "colab": {
          "base_uri": "https://localhost:8080/",
          "height": 60
        },
        "id": "HZPuNs8alU4e",
        "outputId": "c14c410a-402b-4b70-d110-f9ff818245f2"
      },
      "execution_count": null,
      "outputs": [
        {
          "output_type": "execute_result",
          "data": {
            "text/plain": [
              "(-exp(x) + exp(-x))*(exp(x) - exp(-x))/(exp(x) + exp(-x))**2 + 1"
            ],
            "text/latex": "$\\displaystyle \\frac{\\left(- e^{x} + e^{- x}\\right) \\left(e^{x} - e^{- x}\\right)}{\\left(e^{x} + e^{- x}\\right)^{2}} + 1$"
          },
          "metadata": {},
          "execution_count": 18
        }
      ]
    },
    {
      "cell_type": "code",
      "source": [
        "plt.plot(temps, 1-np.tanh(temps)**2)"
      ],
      "metadata": {
        "id": "_8L_Qcg1l8Sl",
        "colab": {
          "base_uri": "https://localhost:8080/",
          "height": 447
        },
        "outputId": "9a0255ae-3892-4239-a495-b3abb5bf965e"
      },
      "execution_count": null,
      "outputs": [
        {
          "output_type": "execute_result",
          "data": {
            "text/plain": [
              "[<matplotlib.lines.Line2D at 0x781d18f39f90>]"
            ]
          },
          "metadata": {},
          "execution_count": 19
        },
        {
          "output_type": "display_data",
          "data": {
            "text/plain": [
              "<Figure size 640x480 with 1 Axes>"
            ],
            "image/png": "[encoded data removed]"
          },
          "metadata": {}
        }
      ]
    },
    {
      "cell_type": "code",
      "source": [
        "np.random.seed(0)\n",
        "\n",
        "i_weight = np.random.rand(1,5)/5 -0.1\n",
        "h_weight = np.random.rand(5,5)/5 -0.1\n",
        "h_bias = np.random.rand(1,5)/5 -0.1\n",
        "\n",
        "o_weight = np.random.rand(5,1)* 50\n",
        "o_bias = np.random.rand(1,1)"
      ],
      "metadata": {
        "id": "1GnKo3uoih7O"
      },
      "execution_count": null,
      "outputs": []
    },
    {
      "cell_type": "code",
      "source": [
        "outputs = np.zeros(3)\n",
        "hidden = np.zeros((3,5))\n",
        "prev_hidden = None\n",
        "sequence = data['tmax'].tail(3).to_numpy()\n",
        "\n",
        "for i in range(3):\n",
        "  x  = sequence[i].reshape(1,1)\n",
        "\n",
        "  xi = x @ i_weight\n",
        "  if prev_hidden is None:\n",
        "    xh =  xi\n",
        "  else:\n",
        "    xh = xi + prev_hidden @ h_weight + h_bias\n",
        "\n",
        "  xh = np.tanh(xh)\n",
        "  prev_hidden = xh\n",
        "  hidden[i,] = xh\n",
        "\n",
        "  xo = xh @ o_weight + o_bias\n",
        "  outputs[i] = xo"
      ],
      "metadata": {
        "colab": {
          "base_uri": "https://localhost:8080/"
        },
        "id": "rnTQo4bKk_ag",
        "outputId": "94a7d4cd-76e5-4c82-be49-3d9ecb204d6e"
      },
      "execution_count": null,
      "outputs": [
        {
          "output_type": "stream",
          "name": "stderr",
          "text": [
            "<ipython-input-21-3189965518>:20: DeprecationWarning: Conversion of an array with ndim > 0 to a scalar is deprecated, and will error in future. Ensure you extract a single element from your array before performing this operation. (Deprecated NumPy 1.25.)\n",
            "  outputs[i] = xo\n"
          ]
        }
      ]
    },
    {
      "cell_type": "code",
      "source": [
        "outputs"
      ],
      "metadata": {
        "colab": {
          "base_uri": "https://localhost:8080/"
        },
        "id": "UfvjuNYLrrIW",
        "outputId": "448c1156-3061-4db3-c7ec-6acc96ea399c"
      },
      "execution_count": null,
      "outputs": [
        {
          "output_type": "execute_result",
          "data": {
            "text/plain": [
              "array([74.31470595, 80.66149404, 77.67852446])"
            ]
          },
          "metadata": {},
          "execution_count": 22
        }
      ]
    },
    {
      "cell_type": "code",
      "source": [
        " hidden"
      ],
      "metadata": {
        "colab": {
          "base_uri": "https://localhost:8080/"
        },
        "id": "6EIa-KZNr9kN",
        "outputId": "0e852f35-be56-4751-aad1-98f20eda84cc"
      },
      "execution_count": null,
      "outputs": [
        {
          "output_type": "execute_result",
          "data": {
            "text/plain": [
              "array([[ 0.56784618,  0.99320288,  0.87557333,  0.53166114, -0.76483255],\n",
              "       [ 0.58366756,  0.99568651,  0.90034879,  0.69338529, -0.84149203],\n",
              "       [ 0.5383306 ,  0.99164251,  0.86287584,  0.66091071, -0.80543591]])"
            ]
          },
          "metadata": {},
          "execution_count": 23
        }
      ]
    },
    {
      "cell_type": "code",
      "source": [
        "def mse(actual, predicted):\n",
        "  return np.mean((actual-predicted)**2)\n",
        "\n",
        "def mse_grad(actual, predicted):\n",
        "  return predicted - actual"
      ],
      "metadata": {
        "id": "ghwaygpisfTd"
      },
      "execution_count": null,
      "outputs": []
    },
    {
      "cell_type": "code",
      "source": [
        "actuals = np.array([70,62,65])\n",
        "loss_grad = mse_grad(actuals,outputs)\n",
        "loss_grad"
      ],
      "metadata": {
        "colab": {
          "base_uri": "https://localhost:8080/"
        },
        "id": "XOkzST3ZvZqx",
        "outputId": "0b631078-809d-4911-c9f3-ebbf34df808e"
      },
      "execution_count": null,
      "outputs": [
        {
          "output_type": "execute_result",
          "data": {
            "text/plain": [
              "array([ 4.31470595, 18.66149404, 12.67852446])"
            ]
          },
          "metadata": {},
          "execution_count": 25
        }
      ]
    },
    {
      "cell_type": "code",
      "source": [
        "next_hidden = None\n",
        "\n",
        "o_weight_grad, o_bias_grad, h_weight_grad, h_bias_grad , i_weight_grad = [0] * 5\n",
        "\n",
        "for i in range(2,-1,-1):\n",
        "  l_grad = loss_grad[i].reshape(1,1)\n",
        "  o_weight_grad += hidden[i][:,np.newaxis] @ l_grad\n",
        "  o_bias_grad += np.mean(l_grad)\n",
        "\n",
        "  o_grad = l_grad @ o_weight.T\n",
        "\n",
        "  if next_hidden is None:\n",
        "    h_grad = o_grad\n",
        "  else :\n",
        "    h_grad = o_grad + next_hidden @ h_weight.T\n",
        "\n",
        "  tanh_deriv = 1 - hidden[i,:][np.newaxis,:]\n",
        "  h_grad = np.multiply(h_grad, tanh_deriv)\n",
        "\n",
        "  next_hidden =  h_grad\n",
        "\n",
        "  if i > 0:\n",
        "    h_weight_grad += hidden[i-1,:][:,np.newaxis] @ h_grad\n",
        "    h_bias_grad +=np.mean(h_grad)\n",
        "\n",
        "  i_weight_grad += sequence[i].reshape(1,1).T @ h_grad\n"
      ],
      "metadata": {
        "id": "djpMPFTCvrUP"
      },
      "execution_count": null,
      "outputs": []
    },
    {
      "cell_type": "code",
      "source": [
        "i_weight_grad"
      ],
      "metadata": {
        "colab": {
          "base_uri": "https://localhost:8080/"
        },
        "id": "c3UUZW_r4QVe",
        "outputId": "91ba6895-12ae-4c65-89af-223572894c19"
      },
      "execution_count": null,
      "outputs": [
        {
          "output_type": "execute_result",
          "data": {
            "text/plain": [
              "array([[ 32352.67091083,    392.99655233,   9528.43418739,\n",
              "         35514.29142052, 146401.10347147]])"
            ]
          },
          "metadata": {},
          "execution_count": 27
        }
      ]
    },
    {
      "cell_type": "code",
      "source": [
        "lr = 1e-6\n",
        "i_weight -= i_weight_grad * lr\n",
        "h_weight -= h_weight_grad * lr\n",
        "h_bias -= h_bias_grad * lr\n",
        "o_weight -= o_weight_grad * lr\n",
        "o_bias -= o_bias_grad * lr"
      ],
      "metadata": {
        "id": "R3msd7DO4UKq"
      },
      "execution_count": null,
      "outputs": []
    },
    {
      "cell_type": "code",
      "source": [
        "i_weight"
      ],
      "metadata": {
        "colab": {
          "base_uri": "https://localhost:8080/"
        },
        "id": "ppa9QYSx4ila",
        "outputId": "b04a448c-6680-4f1a-aa1e-d6c89d7fefe8"
      },
      "execution_count": null,
      "outputs": [
        {
          "output_type": "execute_result",
          "data": {
            "text/plain": [
              "array([[-0.02258997,  0.04264488,  0.01102424, -0.02653765, -0.16167014]])"
            ]
          },
          "metadata": {},
          "execution_count": 29
        }
      ]
    },
    {
      "cell_type": "code",
      "source": [
        "from sklearn.preprocessing import StandardScaler\n",
        "import math\n",
        "\n",
        "#Define predictors and target\n",
        "PREDICTORS =['tmax', \"tmin\", \"rain\"]\n",
        "TARGET = \"tmax_tomorrow\"\n",
        "\n",
        "#Scale our data to have mean 0\n",
        "scaler = StandardScaler()\n",
        "data[PREDICTORS] = scaler.fit_transform(data[PREDICTORS])\n",
        "\n",
        "#split data into train, valid, test sets\n",
        "np.random.seed(0)\n",
        "split_data =np.split(data, [int(.7*len(data)),int(.85*len(data))])\n",
        "(train_x,train_y),(valid_x,valid_y),(test_x,test_y) = [[data[PREDICTORS].to_numpy(),data[[TARGET]].to_numpy()]for i in split_data]"
      ],
      "metadata": {
        "colab": {
          "base_uri": "https://localhost:8080/"
        },
        "id": "ovsuzMFs4kVC",
        "outputId": "b011e63a-11ea-4380-b1cd-bee6a8b1cfc0"
      },
      "execution_count": null,
      "outputs": [
        {
          "output_type": "stream",
          "name": "stderr",
          "text": [
            "/usr/local/lib/python3.11/dist-packages/numpy/_core/fromnumeric.py:57: FutureWarning: 'DataFrame.swapaxes' is deprecated and will be removed in a future version. Please use 'DataFrame.transpose' instead.\n",
            "  return bound(*args, **kwds)\n"
          ]
        }
      ]
    },
    {
      "cell_type": "code",
      "source": [
        "def init_params(layer_conf):\n",
        "  layers=[]\n",
        "  for i in range(1,len(layer_conf)):\n",
        "    np.random.seed(0)\n",
        "    k = 1/math.sqrt(layer_conf[i][\"hidden\"])\n",
        "    i_weight = np.random.rand(layer_conf[i-1][\"units\"],layer_conf[i][\"hidden\"]) * 2 * k - k\n",
        "    h_weight = np.random.rand(layer_conf[i][\"hidden\"],layer_conf[i][\"hidden\"]) * 2 * k - k\n",
        "    h_bias = np.random.rand(1, layer_conf[i][\"hidden\"]) * 2 * k - k\n",
        "\n",
        "    o_weight = np.random.rand(layer_conf[i][\"hidden\"],layer_conf[i][\"output\"]) * 2 * k - k\n",
        "    o_bias = np.random.rand(1,layer_conf[i][\"output\"]) * 2 * k - k\n",
        "\n",
        "    layers.append(\n",
        "        [i_weight,h_weight,h_bias,o_weight,o_bias]\n",
        "    )\n",
        "  return layers\n"
      ],
      "metadata": {
        "id": "9q7djQtfNlH9"
      },
      "execution_count": null,
      "outputs": []
    },
    {
      "cell_type": "code",
      "source": [
        "layer_conf = [\n",
        "    {\"type\":\"input\",\"units\":3 },\n",
        "    {\"type\":\"rnn\",\"hidden\":4,\"output\":1}\n",
        "\n",
        "]"
      ],
      "metadata": {
        "id": "C_TBtT17XoLP"
      },
      "execution_count": null,
      "outputs": []
    },
    {
      "cell_type": "code",
      "source": [
        "def forward( x, layers):\n",
        "  hiddens = []\n",
        "  outputs = []\n",
        "  for i in range(len(layers)):\n",
        "    i_weight, h_weight, h_bias, o_weight, o_bias = layers[i]\n",
        "\n",
        "    hidden = np.zeros((x.shape[0],i_weight.shape[1]))\n",
        "    output = np.zeros((x.shape[0],o_weight.shape[1]))\n",
        "    for j in range(x.shape[0]):\n",
        "      input_x = x[j,:][np.newaxis,:] @ i_weight\n",
        "      hidden_x = input_x + hidden[max(j-1,0),:][np.newaxis,:] @ h_weight + h_bias\n",
        "\n",
        "      hidden_x  = np.tanh(hidden_x)\n",
        "\n",
        "      hidden[j,:] = hidden_x\n",
        "\n",
        "      output_x = hidden_x @ o_weight + o_bias\n",
        "      output[j,:] = output_x\n",
        "    hiddens.append(hidden)\n",
        "    outputs.append(output)\n",
        "\n",
        "  return hiddens, outputs[-1]"
      ],
      "metadata": {
        "id": "0o1Oc2scYKOV"
      },
      "execution_count": null,
      "outputs": []
    },
    {
      "cell_type": "code",
      "source": [
        "def backward(layers, x, lr, grad, hiddens):\n",
        "  for i in range(len(layers)):\n",
        "    i_weight, h_weight, h_bias, o_weight, o_bias = layers[i]\n",
        "    hidden = hiddens[i]\n",
        "    next_h_grad = None\n",
        "    i_weight_grad, h_weight_grad, h_bias_grad, o_weight_grad, o_bias_grad = [0] * 5\n",
        "\n",
        "    for j in range(x.shape[0]-1, -1, -1):\n",
        "      # adding new axis in first dimension\n",
        "      out_grad = grad[j,:][np.newaxis,:]\n",
        "\n",
        "      #Output updates\n",
        "      #np.newaxis creates a size 1 axis, in this case a transposing matrix\n",
        "      o_weight_grad += hidden[j,:][:,np.newaxis] @ out_grad\n",
        "      o_bias_grad += out_grad\n",
        "\n",
        "      #Propogate gradient to hidden unit\n",
        "      h_grad = out_grad @ o_weight.T\n",
        "\n",
        "      if j < x.shape[0]- 1:\n",
        "        # Then we multiply gradients by hidden weights to pull the gradient from next hidden state to current hidden state\n",
        "        hh_grad = next_h_grad @ h_weight.T\n",
        "        # Add gradients together to combine output contribution and hidden contribution\n",
        "        h_grad += hh_grad\n",
        "\n",
        "      tanh_deriv = 1 - hidden[j][np.newaxis,:] ** 2\n",
        "\n",
        "      h_grad = np.multiply(h_grad, tanh_deriv)\n",
        "\n",
        "      next_h_grad = h_grad.copy()\n",
        "\n",
        "      if j > 0 :\n",
        "        h_weight_grad += hidden[j-1][:,np.newaxis] @ h_grad\n",
        "        h_bias_grad += h_grad\n",
        "\n",
        "      i_weight_grad += x[j,:][:,np.newaxis] @ h_grad\n",
        "\n",
        "    lr = lr / x.shape[0]\n",
        "    i_weight -= i_weight_grad * lr\n",
        "    h_weight -= h_weight_grad * lr\n",
        "    h_bias -= h_bias_grad * lr\n",
        "    o_weight -= o_weight_grad * lr\n",
        "    o_bias -= o_bias_grad * lr\n",
        "    layers[i] = [i_weight,h_weight,h_bias,o_weight,o_bias]\n",
        "  return layers"
      ],
      "metadata": {
        "id": "otprqvxccZPx"
      },
      "execution_count": null,
      "outputs": []
    },
    {
      "cell_type": "code",
      "source": [
        "epochs = 250\n",
        "lr = 1e-5\n",
        "layer_conf = [\n",
        "    {\"type\":\"input\",\"units\":3 },\n",
        "    {\"type\":\"rnn\",\"hidden\":4,\"output\":1}\n",
        "\n",
        "]\n",
        "\n",
        "layers = init_params(layer_conf)\n",
        "for epoch in range(epochs):\n",
        "  sequence_len = 7\n",
        "  epoch_loss = 0\n",
        "  for j in range(train_x.shape[0] - sequence_len):\n",
        "    seq_x = train_x[j:(j+sequence_len),]\n",
        "    seq_y = train_y[j:(j+sequence_len),]\n",
        "\n",
        "    hiddens,outputs = forward(seq_x, layers)\n",
        "    grad = mse_grad(seq_y, outputs)\n",
        "    params = backward(layers, seq_x, lr, grad, hiddens)\n",
        "    epoch_loss += mse(seq_y, outputs)\n",
        "\n",
        "  if epoch % 50 == 0:\n",
        "    valid_loss = 0\n",
        "    for j in range(valid_x.shape[0]- sequence_len):\n",
        "      seq_x = valid_x[j: (j+ sequence_len)]\n",
        "      seq_y = valid_y[j: (j+ sequence_len)]\n",
        "      _, outputs = forward(seq_x, layers)\n",
        "      valid_loss += mse(seq_y, outputs)\n",
        "    print(f\"Epoch:{epoch} train loss {epoch_loss/len(train_x)} valid loss {valid_loss/len(valid_x)} \")"
      ],
      "metadata": {
        "colab": {
          "base_uri": "https://localhost:8080/"
        },
        "id": "cducFn-Cgt1C",
        "outputId": "62734132-69ff-4f93-ba4c-86ebba03d2a6"
      },
      "execution_count": null,
      "outputs": [
        {
          "output_type": "stream",
          "name": "stdout",
          "text": [
            "Epoch:0 train loss 2746.3273092540016 valid loss 1418.296731419195 \n",
            "Epoch:50 train loss 28.189488536307625 valid loss 28.878012198862045 \n",
            "Epoch:100 train loss 22.928014893848705 valid loss 24.332321430125535 \n",
            "Epoch:150 train loss 22.198300579028423 valid loss 23.540694384290106 \n",
            "Epoch:200 train loss 22.30818912989701 valid loss 23.53920072548427 \n"
          ]
        }
      ]
    },
    {
      "cell_type": "code",
      "source": [],
      "metadata": {
        "id": "4rd3nsiRmG8K"
      },
      "execution_count": null,
      "outputs": []
    }
  ]
}